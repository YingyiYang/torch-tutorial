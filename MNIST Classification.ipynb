{
 "cells": [
  {
   "cell_type": "markdown",
   "metadata": {
    "collapsed": true
   },
   "source": [
    "# MNIST Classification\n",
    "\n",
    "by learning how to classify the handwritten digits found in the [MNIST](http://yann.lecun.com/exdb/mnist/) dataset!\n",
    "\n",
    "\n",
    "In Torch, MNIST is conveniently available from the `mnist` package which we will import using"
   ]
  },
  {
   "cell_type": "code",
   "execution_count": 1,
   "metadata": {
    "collapsed": false
   },
   "outputs": [
    {
     "data": {
      "text/plain": [
       "{\n",
       "  testdataset : function: 0x0a3bd130\n",
       "  traindataset : function: 0x0a3bd0b8\n",
       "}\n"
      ]
     },
     "execution_count": 1,
     "metadata": {},
     "output_type": "execute_result"
    }
   ],
   "source": [
    "mnist = require 'mnist'\n",
    "print(mnist)"
   ]
  },
  {
   "cell_type": "markdown",
   "metadata": {},
   "source": [
    "The functions that were imported can be called to yield the images and labels:"
   ]
  },
  {
   "cell_type": "code",
   "execution_count": 2,
   "metadata": {
    "collapsed": false
   },
   "outputs": [
    {
     "data": {
      "text/plain": [
       "{\n",
       "  data : ByteTensor - size: 60000x28x28\n",
       "  size : 60000\n",
       "  label : ByteTensor - size: 60000\n",
       "}\n"
      ]
     },
     "execution_count": 2,
     "metadata": {},
     "output_type": "execute_result"
    }
   ],
   "source": [
    "trainData = mnist.traindataset()\n",
    "print(trainData)"
   ]
  },
  {
   "cell_type": "markdown",
   "metadata": {},
   "source": [
    "which look like"
   ]
  },
  {
   "cell_type": "code",
   "execution_count": 4,
   "metadata": {
    "collapsed": false
   },
   "outputs": [
    {
     "data": {
      "text/plain": [
       "4 7 4 7 4 "
      ]
     },
     "execution_count": 4,
     "metadata": {},
     "output_type": "execute_result"
    },
    {
     "data": {
      "image/png": "[encoded data removed]",
      "text/plain": [
       "Console does not support images"
      ]
     },
     "metadata": {
      "image/png": {
       "height": 30,
       "width": 150
      }
     },
     "output_type": "display_data"
    }
   ],
   "source": [
    "images = {}\n",
    "labels = {}\n",
    "for i=1,5 do\n",
    "    r = torch.random(trainData.size)\n",
    "    images[i] = trainData.data[r]\n",
    "    labels[i] = trainData.label[r]\n",
    "end\n",
    "itorch.image(images)\n",
    "for i=1,5 do io.write(labels[i]..' ') end"
   ]
  },
  {
   "cell_type": "markdown",
   "metadata": {},
   "source": [
    "Seems reasonable. Let's see if our computers agree! \n",
    "\n",
    "## DataLoader\n",
    "\n",
    "For the remainder of this workshop, you'll be getting your hands dirty by first filling in a very basic skeleton of the data loader and then writing and tuning several models to get the best performance on MNIST!\n",
    "\n",
    "### One-sample, two-sample, $n$-sample, batch!\n",
    "\n",
    "A neural network is like any other function: it takes some inputs (data) and produces some outputs (predictions). In this section, we'll work with the code found in [`mnist/dataloder.lua`](../edit/mnist/dataloader.lua).\n",
    "\n",
    "Let's start with a quick tour:\n",
    "\n",
    "The first new piece of machinery is on line 4: \n",
    "\n",
    "```lua\n",
    "local DataLoader = torch.class('DataLoader')\n",
    "```\n",
    "\n",
    "If you hearken back to the Intro to Lua segment, you'll recall that Lua tables can be used like classes in standard object-oriented programming. Torch makes this easy by handling all of the boilerplate in [torch.class](https://github.com/torch/torch7/blob/master/doc/utility.md#torch.class) so that all you need to do is implement the methods you care about. In this case, we will want\n",
    "\n",
    "* `__init` (a default method) which is analagous to `__init__` in Python,\n",
    "* `run` (a custom method) which will return an iterator over our dataset, and\n",
    "* `size` (a custom method) which will return the size of the training or validation set\n"
   ]
  },
  {
   "cell_type": "code",
   "execution_count": 6,
   "metadata": {
    "collapsed": false
   },
   "outputs": [
    {
     "data": {
      "text/plain": [
       "  8\n",
       "  8\n",
       " 10\n",
       " 10\n",
       "[torch.ByteTensor of size 4]\n",
       "\n"
      ]
     },
     "execution_count": 6,
     "metadata": {},
     "output_type": "execute_result"
    },
    {
     "data": {
      "image/png": "[encoded data removed]",
      "text/plain": [
       "Console does not support images"
      ]
     },
     "metadata": {
      "image/png": {
       "height": 30,
       "width": 120
      }
     },
     "output_type": "display_data"
    }
   ],
   "source": [
    "dofile('mnist/dataloader.lua')\n",
    "local loader = DataLoader{batchSize=4}\n",
    "iter = loader:run('train')\n",
    "local n,data = iter()\n",
    "print(data.labels)\n",
    "itorch.image(data.images)"
   ]
  },
  {
   "cell_type": "markdown",
   "metadata": {
    "collapsed": true
   },
   "source": [
    "## `nn`: For (Almost) All of Your Neural Network Needs\n",
    "\n",
    "Another of the many reasons why Torch really shines (glows?) is that it has a comprehensive set of \"modules\" that you can string together like lego blocks to produce even highly complicated networks. This is largely in part due to the programming abstractions it uses, which we shall soon see.\n",
    "\n",
    "Like `mnist` we can import the `nn` package using"
   ]
  },
  {
   "cell_type": "code",
   "execution_count": 7,
   "metadata": {
    "collapsed": true
   },
   "outputs": [],
   "source": [
    "require 'nn';"
   ]
  },
  {
   "cell_type": "markdown",
   "metadata": {},
   "source": [
    "\n",
    "### The Real Learning Modules\n",
    "\n",
    "All of the modules in `nn` are built on a base class known as [`nn.Module`](https://github.com/torch/nn/blob/master/Module.lua). Thus, in order to understand the rest of the package, we must first understand [`nn.Module`](https://github.com/torch/nn/blob/master/Module.lua). The [docs](https://github.com/torch/nn/blob/master/doc/module.md) are comprehensive but somewhat hard to parse, so we'll eschew those and just look at the code:\n",
    "\n",
    "You'll want to point your browser to the code for [`nn.Module`](https://github.com/torch/nn/blob/master/Module.lua).\n",
    "\n",
    "Now, direct your attention to the [`init`](https://github.com/torch/nn/blob/master/Module.lua#L3) method. The two important things going on here are the initialization of `self.gradInput` and `self.output`. The former holds the gradient that travels backwards through this layer (think [$\\partial f/\\partial z$](neural_nets.ipynb#Training)) while the latter holds the output. Practically, this means is that you can access these important values using `myModule.gradInput` and `myModule.output`, respectively. There are some other effects that have to deal with the `_type`, but we'll ignore that for now.\n",
    "\n",
    "Temporarily skipping over the `parameters` method, we eventually come to [`forward`](https://github.com/torch/nn/blob/master/Module.lua#L25), which just calls `updateOutput`; you generally don't want to change this and, instead, override [`updateOutput`](https://github.com/torch/nn/blob/master/Module.lua#L21).\n",
    "\n",
    "[`updateOutput`](https://github.com/torch/nn/blob/master/Module.lua#L21) is where (half of) the real work of the Module happens. You override (replace) this function with whatever computation you desire and then make `self.output` the result.\n",
    "\n",
    "Continuing on, we arrive at [`backward`](https://github.com/torch/nn/blob/master/Module.lua#L29), which is a bit like `forward` in that it simply calls some other methods: `updateGradInput` and `accGradParameters`.\n",
    "\n",
    "Try your hardest to ignore all of the intervening code and settle your gaze upon [`updateGradInput`](https://github.com/torch/nn/blob/master/Module.lua#L42). This function is the backward counterpart of `updateOutput` which takes the gradient w.r.t. the output (e.g., $\\frac{\\partial \\mathcal{L}}{\\partial o}$) and applies the chain rule (e.g., $\\frac{\\partial \\mathcal{L}}{\\partial o}\\frac{\\partial o}{\\partial f}$) to get the gradient w.r.t. the input--the output of the previous module. Naturally, this gets stored in `self.gradInput`.\n",
    "\n",
    "\"What about the parameters?\" you say. Great question, that's what happens in [`accGradParameters`](https://github.com/torch/nn/blob/master/Module.lua#L46). This function doesn't return anything and, instead, just collects the $\\partial z/\\partial W$s until we take a gradient descent step at the very end.\n",
    "\n",
    "Clear as mud, right? No worries, it should become clearer when we get to an example!\n",
    "\n",
    "#### Mulling Over a Module\n",
    "\n",
    "Let's scale up the learning with a simple Module, [`nn.Mul`](https://github.com/torch/nn/blob/master/Mul.lua), which learns to multiply the input by a number, $c$. In math parlance, $f(X) = cX$.\n",
    "\n",
    "On [line 1](https://github.com/torch/nn/blob/master/Mul.lua#L1), you can see that we're creating `nn.Mul` from a base class `nn.Module` (go figure).\n",
    "\n",
    "In [`__init`](https://github.com/torch/nn/blob/master/Mul.lua#L4) the new thing happening here is that there are two new variables: `self.weight` and `self.gradWeight` which hold the number and the accumulated gradient w.r.t. the number ($\\partial\\mathcal{L}/dc$). Since this is a `nn.Module` and it calls [`parent.__init(self)`](https://github.com/torch/nn/blob/master/Mul.lua#L4), we know that `self.output` and `self.gradInput` are initialized to empty Tensors.\n",
    "\n",
    "[`updateOutput`](https://github.com/torch/nn/blob/master/Mul.lua#L23) is reasonably straightforward: it makes some room for the output using `resize` and copies in the input (it's important to do a copy, because it needs the input later to compute the gradient!). After a quick `mul` by $c$, the module returns its output.\n",
    "\n",
    "[`updateGradInput`](https://github.com/torch/nn/blob/master/Mul.lua#L29) proceeds similarly. This function computes $\\partial f/\\partial x = c$, and applies the chain rule so that `gradInput = c*gradOutput`. Don't let the call to [`add`](https://torch7.readthedocs.io/en/latest/maths/index.html#res-torchaddres-tensor1-value-tensor2) throw you off: if you check the types (scalar, Tensor) and then look at the [docs](https://torch7.readthedocs.io/en/latest/maths/index.html#res-torchaddres-tensor1-value-tensor2) (scroll down to the first example in red), you'll find that this invocation\n",
    "\n",
    "> `x:add(value, y)` multiply-accumulates values of `y` into `x`\"\n",
    "\n",
    "Great! Now on to the final piece of the puzzle, [`accGradParameters`](https://github.com/torch/nn/blob/master/Mul.lua#L35), which just takes $\\partial f/\\partial c = X$, applies the chain rule, and adds the result into the existing `gradWeight`."
   ]
  },
  {
   "cell_type": "code",
   "execution_count": 8,
   "metadata": {
    "collapsed": false
   },
   "outputs": [
    {
     "data": {
      "text/plain": [
       "nn.Mul\n",
       "{\n",
       "  weight : DoubleTensor - size: 1\n",
       "  _type : torch.DoubleTensor\n",
       "  output : DoubleTensor - empty\n",
       "  gradInput : DoubleTensor - empty\n",
       "  gradWeight : DoubleTensor - size: 1\n",
       "}\n"
      ]
     },
     "execution_count": 8,
     "metadata": {},
     "output_type": "execute_result"
    }
   ],
   "source": [
    "mul42 = nn.Mul()\n",
    "mul42.weight = torch.Tensor{42}\n",
    "print(mul42)"
   ]
  },
  {
   "cell_type": "code",
   "execution_count": 9,
   "metadata": {
    "collapsed": false
   },
   "outputs": [
    {
     "data": {
      "text/plain": [
       "  42\n",
       "  84\n",
       " 126\n",
       "[torch.DoubleTensor of size 3]\n",
       "\n"
      ]
     },
     "execution_count": 9,
     "metadata": {},
     "output_type": "execute_result"
    }
   ],
   "source": [
    "input = torch.range(1, 3)\n",
    "mul42:forward(input)\n",
    "print(mul42.output)"
   ]
  },
  {
   "cell_type": "code",
   "execution_count": 10,
   "metadata": {
    "collapsed": false,
    "scrolled": true
   },
   "outputs": [
    {
     "data": {
      "text/plain": [
       " 42\n",
       " 42\n",
       " 42\n",
       "[torch.DoubleTensor of size 3]\n",
       "\n",
       " 6\n",
       "[torch.DoubleTensor of size 1]\n",
       "\n"
      ]
     },
     "execution_count": 10,
     "metadata": {},
     "output_type": "execute_result"
    }
   ],
   "source": [
    "gradOutput = torch.ones(3)\n",
    "mul42:backward(input, gradOutput)\n",
    "print(mul42.gradInput)\n",
    "print(mul42.gradWeight) -- 1 + 2 + 3 = input:sum()"
   ]
  },
  {
   "cell_type": "markdown",
   "metadata": {},
   "source": [
    "### So Many Modules\n",
    "Whereas a vanilla Module is great when you have an input and want to create a new output, most often, you'll want to string other Modules together. For this, you need a [`Container`](https://github.com/torch/nn/blob/master/Container.lua). A [`Container`](https://github.com/torch/nn/blob/master/Container.lua) extends Module to provide, in addition to our friend like `self.output`, `self.gradInput`, `updateOutput()`, and `updateGradInput()`, the `self.modules` property and methods like [`add`](https://github.com/torch/nn/blob/master/Container.lua#L10) and the recursive [`applyToModules`](https://github.com/torch/nn/blob/master/Container.lua#L10).\n",
    "\n",
    "By far, the most important part of being a Container is that its contained Modules are in the `self.modules` table. Otherwise, the rest of the Container functions won't know to use them!\n",
    "\n",
    "#### It's as Easy as 1, 2, 3\n",
    "\n",
    "By far, the most ubiquitous Module is [`nn.Sequential`](https://github.com/torch/nn/blob/master/Sequential.lua), which [takes an input and feeds it--sequentially--through the network](https://github.com/torch/nn/blob/master/Sequential.lua#L41). As this, very much, follows the paradigm of \"layers,\" you'll not be surprised that the wrapper of most of your networks will be `nn.Sequential`.\n",
    "\n",
    "Here's a quick example that looks a lot like our Perceptron from earlier:"
   ]
  },
  {
   "cell_type": "code",
   "execution_count": 11,
   "metadata": {
    "collapsed": false
   },
   "outputs": [
    {
     "data": {
      "text/plain": [
       "nn.Sequential {\n",
       "  [input -> (1) -> (2) -> (3) -> (4) -> (5) -> output]\n",
       "  (1): nn.Linear(3 -> 5)\n",
       "  (2): nn.ReLU\n",
       "  (3): nn.Linear(5 -> 5)\n",
       "  (4): nn.ReLU\n",
       "  (5): nn.Linear(5 -> 1)\n",
       "}\t\n"
      ]
     },
     "execution_count": 11,
     "metadata": {},
     "output_type": "execute_result"
    }
   ],
   "source": [
    "model = nn.Sequential()\n",
    "model:add(nn.Linear(3, 5))\n",
    "model:add(nn.ReLU())\n",
    "model:add(nn.Linear(5, 5))\n",
    "model:add(nn.ReLU())\n",
    "model:add(nn.Linear(5, 1))\n",
    "print(tostring(model)) -- the tostring is only needed in iTorch"
   ]
  },
  {
   "cell_type": "code",
   "execution_count": 12,
   "metadata": {
    "collapsed": false
   },
   "outputs": [
    {
     "data": {
      "text/plain": [
       "-0.2110  0.3922 -0.5508  0.3507  0.1708\n",
       "-0.3264  0.3744 -0.6047  0.2504  0.0523\n",
       "-0.7199  0.5533 -0.5727  0.2670  0.0941\n",
       "-0.6018  0.3177 -0.7061  0.0338 -0.3710\n",
       "[torch.DoubleTensor of size 4x5]\n",
       "\n",
       " 0.0000  0.3922  0.0000  0.3507  0.1708\n",
       " 0.0000  0.3744  0.0000  0.2504  0.0523\n",
       " 0.0000  0.5533  0.0000  0.2670  0.0941\n",
       " 0.0000  0.3177  0.0000  0.0338  0.0000\n",
       "[torch.DoubleTensor of size 4x5]\n",
       "\n",
       "-0.3079  0.2202  0.1640 -0.2994 -0.2039\n",
       "-0.2506  0.2373  0.1950 -0.2323 -0.2578\n",
       "-0.2864  0.2186  0.2312 -0.2454 -0.2695\n",
       "-0.1508  0.2978  0.2428 -0.1306 -0.3454\n",
       "[torch.DoubleTensor of size 4x5]\n",
       "\n",
       " 0.0000  0.2202  0.1640  0.0000  0.0000\n",
       " 0.0000  0.2373  0.1950  0.0000  0.0000\n",
       " 0.0000  0.2186  0.2312  0.0000  0.0000\n",
       " 0.0000  0.2978  0.2428  0.0000  0.0000\n",
       "[torch.DoubleTensor of size 4x5]\n",
       "\n",
       " 0.1613\n",
       " 0.1613\n",
       " 0.1672\n",
       " 0.1562\n",
       "[torch.DoubleTensor of size 4x1]\n",
       "\n"
      ]
     },
     "execution_count": 12,
     "metadata": {},
     "output_type": "execute_result"
    }
   ],
   "source": [
    "input = torch.rand(4, 3) -- minibatch of 4 samples with 3 features each\n",
    "model:forward(input)\n",
    "for i=1,#model do\n",
    "    print(model:get(i).output)\n",
    "end"
   ]
  },
  {
   "cell_type": "markdown",
   "metadata": {},
   "source": [
    "### The Final Judgement\n",
    "\n",
    "So, you have a model. Cool. Is it any good? Who knows! Actually, the [`Criterion`](https://github.com/torch/nn/blob/master/Criterion.lua) does.\n",
    "\n",
    "A [`Criterion`](https://github.com/torch/nn/blob/master/Criterion.lua) is kind of like a Module in that it has  `forward` and `backward`, but is unique in that they take a second argument: `target`.\n",
    "\n",
    "As with Modules, there are a [ton](https://github.com/torch/nn/blob/master/doc/criterion.md) of different Criterions. Choosing the right Criterion is very important as this determines what the network will learn.\n",
    "\n",
    "### All together now\n",
    "\n",
    "So now we have a network that takes a vector with three elements and produces a single number. How about we train it to learn how to take the average of the three numbers?\n",
    "\n",
    "The question of the hour is of what Criterion should we use. One good choice is [`nn.MSECriterion`](https://github.com/torch/nn/blob/master/doc/criterion.md#nn.MSECriterion) which is the $\\mathcal{L}(x, y) = (x - y)^2$ we used earlier. This is sort of like asking the output to be \"close enough\" while ensuring that no value is particularly off.\n",
    "\n",
    "Here's how the network performs before any training:"
   ]
  },
  {
   "cell_type": "code",
   "execution_count": 39,
   "metadata": {
    "collapsed": false
   },
   "outputs": [
    {
     "data": {
      "text/plain": [
       "  1   2   3\n",
       "  4   5   6\n",
       "  7   8   9\n",
       " 10  11  12\n",
       "[torch.DoubleTensor of size 4x3]\n",
       "\n",
       "  2\n",
       "  5\n",
       "  8\n",
       " 11\n",
       "[torch.DoubleTensor of size 4x1]\n",
       "\n"
      ]
     },
     "execution_count": 39,
     "metadata": {},
     "output_type": "execute_result"
    }
   ],
   "source": [
    "origModel = model:clone()\n",
    "origModel:reset()\n",
    "\n",
    "testData = torch.range(1, 4*3):view(4, 3)\n",
    "print(testData)\n",
    "expectedOutput = testData:mean(2)\n",
    "print(expectedOutput)"
   ]
  },
  {
   "cell_type": "code",
   "execution_count": 40,
   "metadata": {
    "collapsed": false
   },
   "outputs": [
    {
     "data": {
      "text/plain": [
       " 0.4441\n",
       " 0.5053\n",
       " 0.4998\n",
       " 0.5056\n",
       "[torch.DoubleTensor of size 4x1]\n",
       "\n"
      ]
     },
     "execution_count": 40,
     "metadata": {},
     "output_type": "execute_result"
    }
   ],
   "source": [
    "print(origModel:forward(testData))"
   ]
  },
  {
   "cell_type": "markdown",
   "metadata": {},
   "source": [
    "Terrible. Absolutely terrible. Let's see if we can get it to learn something!"
   ]
  },
  {
   "cell_type": "code",
   "execution_count": 41,
   "metadata": {
    "collapsed": false
   },
   "outputs": [
    {
     "name": "stdout",
     "output_type": "stream",
     "text": [
      " [======================================================>]                               \b\b\b\b\b\b\b\b\b\b\b\b\b\b\b\b\b\b\b\b\b\b\b\b\b\b\b\b\b\b Tot: 15s452ms | Step: 0ms\b\b\b\b\b\b\b\b\b\b\b\b\b\b\b\b\b\b\b\b\b\b\b\b\b\b\b\b\b\b\b\b\b\b\b\b\b\b\b\b\b\b\b\b\b\b\b\b\b\b\b\b\b\b\b\b\b\b "
     ]
    }
   ],
   "source": [
    "model:reset()\n",
    "crit = nn.AbsCriterion() -- (x - y)^2\n",
    "N = 100000 -- train for 100k iters\n",
    "for i=1,N do\n",
    "    local input = torch.Tensor(100, 3):random(10)\n",
    "    local target = input:max(2)\n",
    "    model:forward(input)\n",
    "    local loss = crit:forward(model.output, target)\n",
    "    \n",
    "    model:zeroGradParameters()\n",
    "    crit:backward(model.output, target)\n",
    "    model:backward(input, crit.gradInput)\n",
    "    model:updateParameters(0.01)\n",
    "    \n",
    "    xlua.progress(i, N)\n",
    "end"
   ]
  },
  {
   "cell_type": "code",
   "execution_count": 42,
   "metadata": {
    "collapsed": false
   },
   "outputs": [
    {
     "data": {
      "text/plain": [
       "  3.0756\n",
       "  7.8454\n",
       " 10.0007\n",
       " 10.0007\n",
       "[torch.DoubleTensor of size 4x1]\n",
       "\n",
       "  2\n",
       "  5\n",
       "  8\n",
       " 11\n",
       "[torch.DoubleTensor of size 4x1]\n",
       "\n"
      ]
     },
     "execution_count": 42,
     "metadata": {},
     "output_type": "execute_result"
    }
   ],
   "source": [
    "print(model:forward(testData), expectedOutput)"
   ]
  },
  {
   "cell_type": "markdown",
   "metadata": {},
   "source": [
    "Not too shabby for only being able to do sums, multiplications, and thresholding at zero!\n",
    "\n",
    "## Go Forth (and Back)\n",
    "\n",
    "You now have all of the tools you need to start classifying MNIST digits! Crazy, right?\n",
    "\n",
    "### I Want to Be the Very Best...\n",
    "\n",
    "Start by popping open the [training script](../edit/mnist/main.lua).\n",
    "\n",
    "You don't have to concern youself much with the details of it but it will help to be aware of a few things:\n",
    "\n",
    "First is that that there are several named arguments that you can change like `seed`, `nEpochs`, any of the options listed under \"Optimization options\".\n",
    "\n",
    "Additionally, on line 39, you'll see that we're using the [`nn.CrossEntropyCriteron`](https://github.com/torch/nn/blob/master/doc/criterion.md#nn.CrossEntropyCriterion) which is like the binary cross-entropy we used in the original Perceptron example but generalized to $n$ classes.\n",
    "\n",
    "Finally, unlike above where we used `updateParamters(0.01)`, this training script uses the SGD available in the powerful `optim` package which has, along with other optimizers entirely, an implementation of SGD that includes bells and whistles like weight-decay and momentum. This is configured on line 41 and is used on line 75.\n",
    "\n",
    "### I'm Ready for My Close-Up\n",
    "\n",
    "Finally, we get to write a real-life model! This model will live in [mnist/models/mlp.lua](../edit/mnist/models/mlp.lua) which is named \"mlp.lua\" because that's what you're going to write: a multi-layer perceptron!\n",
    "\n",
    "In the spirit of the max-finding model, above, we can define a model that contains some [`nn.Linear`s](https://github.com/torch/nn/blob/master/doc/simple.md#nn.Linear) and some [non-linearities](https://github.com/torch/nn/blob/master/doc/transfer.md) like [`nn.ReLU`](https://github.com/torch/nn/blob/master/doc/transfer.md#relu). For instance, we will try:\n",
    "\n",
    "\n"
   ]
  },
  {
   "cell_type": "code",
   "execution_count": 14,
   "metadata": {
    "collapsed": false
   },
   "outputs": [],
   "source": [
    "model = nn.Sequential()\n",
    "model:add(nn.View(26*26))\n",
    "model:add(nn.Linear(26*26, 1000))\n",
    "model:add(nn.ReLU())\n",
    "model:add(nn.Linear(1000, 500))\n",
    "model:add(nn.ReLU())\n",
    "model:add(nn.Linear(500, 100))\n",
    "model:add(nn.ReLU())\n",
    "model:add(nn.Linear(100, 10))\n"
   ]
  },
  {
   "cell_type": "code",
   "execution_count": 15,
   "metadata": {
    "collapsed": false
   },
   "outputs": [
    {
     "data": {
      "text/plain": [
       "nn.Sequential {\n",
       "  [input -> (1) -> (2) -> (3) -> (4) -> (5) -> (6) -> (7) -> (8) -> output]\n",
       "  (1): nn.View(784)\n",
       "  (2): nn.Linear(784 -> 1000)\n",
       "  (3): nn.ReLU\n",
       "  (4): nn.Linear(1000 -> 500)\n",
       "  (5): nn.ReLU\n",
       "  (6): nn.Linear(500 -> 100)\n",
       "  (7): nn.ReLU\n",
       "  (8): nn.Linear(100 -> 10)\n",
       "}\n",
       "{\n",
       "  gradInput : DoubleTensor - empty\n",
       "  modules : \n",
       "    {\n",
       "      1 : \n",
       "        nn.View(784)\n",
       "        {\n",
       "          _type : torch.DoubleTensor\n",
       "          output : DoubleTensor - empty\n",
       "          gradInput : DoubleTensor - empty\n",
       "          size : LongStorage - size: 1\n",
       "          numElements : 784\n",
       "       "
      ]
     },
     "execution_count": 15,
     "metadata": {},
     "output_type": "execute_result"
    },
    {
     "data": {
      "text/plain": [
       " }\n",
       "      2 : \n",
       "        nn.Linear(784 -> 1000)\n",
       "        {\n",
       "          gradBias : DoubleTensor - size: 1000\n",
       "          weight : DoubleTensor - size: 1000x784\n",
       "          _type : torch.DoubleTensor\n",
       "          output : DoubleTensor - empty\n",
       "          gradInput : DoubleTensor - empty\n",
       "          bias : DoubleTensor - size: 1000\n",
       "          gradWeight : DoubleTensor - size: 1000x784\n",
       "        }\n",
       "      3 : \n",
       "        nn.ReLU\n",
       "        {\n",
       "          inplace : false\n",
       "          threshold : 0\n",
       "          _type : torch.DoubleTensor\n",
       "          output : DoubleTensor - empty\n",
       "          gradInput : DoubleTensor - empty\n",
       "          val : 0\n",
       "        }\n",
       "      4 : \n",
       "        nn.Linear(1000 -> 500)\n",
       "        {\n",
       "          gradBias : DoubleTensor - size: 500\n",
       "          weight : DoubleTensor - size: 500x1000\n",
       "          _type : torch.DoubleTensor\n",
       "          output : DoubleTensor - empty\n",
       "          gradInput : DoubleTensor - empty\n",
       "          bias : DoubleTensor - size: 500\n",
       "          gradWeight : DoubleTensor - size: 500x1000\n",
       "        }\n",
       "      5 : \n",
       "        nn.ReLU\n",
       "        {\n",
       "          inplace : false\n",
       "          threshold : 0\n",
       "          _type : torch.DoubleTensor\n",
       "          output : DoubleTensor - empty\n",
       "          gradInput : DoubleTensor - empty\n",
       "          val : 0\n",
       "        }\n",
       "      6 : \n",
       "        nn.Linear(500 -> 100)\n",
       "        {\n",
       "          gradBias : DoubleTensor - size: 100\n",
       "          weight : DoubleTensor - size: 100x500\n",
       "          _type : torch.DoubleTensor\n",
       "          output : DoubleTensor - empty\n",
       "          gradInput : DoubleTensor - empty\n",
       "          bias : DoubleTensor - size: 100\n",
       "          gradWeight : DoubleTensor - size: 100x500\n",
       "        }\n",
       "      7 : \n",
       "        nn.ReLU\n",
       "        {\n",
       "          inplace : false\n",
       "          threshold : 0\n",
       "          _type : torch.DoubleTensor\n",
       "          output : DoubleTensor - empty\n",
       "          gradInput : DoubleTensor - empty\n",
       "          val : 0\n",
       "        }\n",
       "      8 : \n",
       "        nn.Linear(100 -> 10)\n",
       "        {\n",
       "          gradBias : DoubleTensor - size: 10\n",
       "          weight : DoubleTensor - size: 10x100\n",
       "          _type : torch.DoubleTensor\n",
       "          output : DoubleTensor - empty\n",
       "          gradInput : DoubleTensor - empty\n",
       "          bias : DoubleTensor - size: 10\n",
       "          gradWeight : DoubleTensor - size: 10x100\n",
       "        }\n",
       "    }\n",
       "  _type : torch.DoubleTensor\n",
       "  output : DoubleTensor - empty\n",
       "}\n"
      ]
     },
     "execution_count": 15,
     "metadata": {},
     "output_type": "execute_result"
    },
    {
     "data": {
      "text/plain": [
       "Passed!\t\n",
       "\n"
      ]
     },
     "execution_count": 15,
     "metadata": {},
     "output_type": "execute_result"
    }
   ],
   "source": [
    "dofile('mnist/test/mlp_io.lua')"
   ]
  },
  {
   "cell_type": "markdown",
   "metadata": {},
   "source": [
    "When you're ready to roll, run the following code block. Try to get the best performance you can!"
   ]
  },
  {
   "cell_type": "code",
   "execution_count": 16,
   "metadata": {
    "collapsed": false
   },
   "outputs": [
    {
     "name": "stdout",
     "output_type": "stream",
     "text": [
      " [=====================================================================================>]                               \b\b\b\b\b\b\b\b\b\b\b\b\b\b\b\b\b\b\b\b\b\b\b\b\b\b\b\b\b\b Tot: 30ms | Step: 3ms\b\b\b\b\b\b\b\b\b\b\b\b\b\b\b\b\b\b\b\b\b\b\b\b\b\b\b\b\b\b\b\b\b\b\b\b\b\b\b\b\b\b\b\b\b\b\b\b\b\b\b\b\b\b\b\b\b\b\b\b\b\b\b\b\b\b\b\b\b\b "
     ]
    },
    {
     "data": {
      "text/plain": [
       "Epoch  1 | train loss: 0.290 | val loss: 0.137 | val acc: 95.86%\t\n"
      ]
     },
     "execution_count": 16,
     "metadata": {},
     "output_type": "execute_result"
    },
    {
     "name": "stdout",
     "output_type": "stream",
     "text": []
    },
    {
     "data": {
      "text/plain": [
       "Epoch  2 | train loss: 0.095 | val loss: 0.097 | val acc: 96.98%\t\n"
      ]
     },
     "execution_count": 16,
     "metadata": {},
     "output_type": "execute_result"
    },
    {
     "name": "stdout",
     "output_type": "stream",
     "text": [
      " [=====================================================================================>]                               \b\b\b\b\b\b\b\b\b\b\b\b\b\b\b\b\b\b\b\b\b\b\b\b\b\b\b\b\b\b Tot: 43ms | Step: 4ms\b\b\b\b\b\b\b\b\b\b\b\b\b\b\b\b\b\b\b\b\b\b\b\b\b\b\b\b\b\b\b\b\b\b\b\b\b\b\b\b\b\b\b\b\b\b\b\b\b\b\b\b\b\b\b\b\b\b\b\b\b\b\b\b\b\b\b\b\b\b "
     ]
    },
    {
     "data": {
      "text/plain": [
       "Epoch  3 | train loss: 0.058 | val loss: 0.086 | val acc: 97.30%\t\n"
      ]
     },
     "execution_count": 16,
     "metadata": {},
     "output_type": "execute_result"
    },
    {
     "name": "stdout",
     "output_type": "stream",
     "text": [
      " [======================================================================>...............]                               \b\b\b\b\b\b\b\b\b\b\b\b\b\b\b\b\b\b\b\b\b\b\b\b\b\b\b\b\b\b ETA: 0ms | Step: 0ms\b\b\b\b\b\b\b\b\b\b\b\b\b\b\b\b\b\b\b\b\b\b\b\b\b\b\b\b\b\b\b\b\b\b\b\b\b\b\b\b\b\b\b\b\b\b\b\b\b\b\b\b\b\b\b\b\b\b\b\b\b\b\b\b\b\b\b\b\b "
     ]
    },
    {
     "data": {
      "text/plain": [
       "Epoch  4 | train loss: 0.038 | val loss: 0.080 | val acc: 97.53%\t\n"
      ]
     },
     "execution_count": 16,
     "metadata": {},
     "output_type": "execute_result"
    },
    {
     "name": "stdout",
     "output_type": "stream",
     "text": []
    },
    {
     "data": {
      "text/plain": [
       "Epoch  5 | train loss: 0.023 | val loss: 0.074 | val acc: 97.76%\t\n"
      ]
     },
     "execution_count": 16,
     "metadata": {},
     "output_type": "execute_result"
    },
    {
     "name": "stdout",
     "output_type": "stream",
     "text": []
    },
    {
     "data": {
      "text/plain": [
       "Epoch  6 | train loss: 0.013 | val loss: 0.076 | val acc: 97.81%\t\n"
      ]
     },
     "execution_count": 16,
     "metadata": {},
     "output_type": "execute_result"
    },
    {
     "name": "stdout",
     "output_type": "stream",
     "text": []
    },
    {
     "data": {
      "text/plain": [
       "Epoch  7 | train loss: 0.008 | val loss: 0.074 | val acc: 97.87%\t\n"
      ]
     },
     "execution_count": 16,
     "metadata": {},
     "output_type": "execute_result"
    },
    {
     "name": "stdout",
     "output_type": "stream",
     "text": [
      " [=====================================================================================>]                               \b\b\b\b\b\b\b\b\b\b\b\b\b\b\b\b\b\b\b\b\b\b\b\b\b\b\b\b\b\b Tot: 29ms | Step: 3ms\b\b\b\b\b\b\b\b\b\b\b\b\b\b\b\b\b\b\b\b\b\b\b\b\b\b\b\b\b\b\b\b\b\b\b\b\b\b\b\b\b\b\b\b\b\b\b\b\b\b\b\b\b\b\b\b\b\b\b\b\b\b\b\b\b\b\b\b\b\b "
     ]
    },
    {
     "data": {
      "text/plain": [
       "Epoch  8 | train loss: 0.004 | val loss: 0.073 | val acc: 97.94%\t\n"
      ]
     },
     "execution_count": 16,
     "metadata": {},
     "output_type": "execute_result"
    },
    {
     "name": "stdout",
     "output_type": "stream",
     "text": [
      " [=====================================================================================>]                               \b\b\b\b\b\b\b\b\b\b\b\b\b\b\b\b\b\b\b\b\b\b\b\b\b\b\b\b\b\b Tot: 33ms | Step: 3ms\b\b\b\b\b\b\b\b\b\b\b\b\b\b\b\b\b\b\b\b\b\b\b\b\b\b\b\b\b\b\b\b\b\b\b\b\b\b\b\b\b\b\b\b\b\b\b\b\b\b\b\b\b\b\b\b\b\b\b\b\b\b\b\b\b\b\b\b\b\b "
     ]
    },
    {
     "data": {
      "text/plain": [
       "Epoch  9 | train loss: 0.003 | val loss: 0.076 | val acc: 97.95%\t\n"
      ]
     },
     "execution_count": 16,
     "metadata": {},
     "output_type": "execute_result"
    },
    {
     "name": "stdout",
     "output_type": "stream",
     "text": [
      " [=====================================================================================>]                               \b\b\b\b\b\b\b\b\b\b\b\b\b\b\b\b\b\b\b\b\b\b\b\b\b\b\b\b\b\b Tot: 13ms | Step: 3ms\b\b\b\b\b\b\b\b\b\b\b\b\b\b\b\b\b\b\b\b\b\b\b\b\b\b\b\b\b\b\b\b\b\b\b\b\b\b\b\b\b\b\b\b\b\b\b\b\b\b\b\b\b\b\b\b\b\b\b\b\b\b\b\b\b\b\b\b\b\b "
     ]
    },
    {
     "data": {
      "text/plain": [
       "Epoch 10 | train loss: 0.002 | val loss: 0.076 | val acc: 97.98%\t\n"
      ]
     },
     "execution_count": 16,
     "metadata": {},
     "output_type": "execute_result"
    },
    {
     "name": "stdout",
     "output_type": "stream",
     "text": [
      " [=====================================================================================>]                               \b\b\b\b\b\b\b\b\b\b\b\b\b\b\b\b\b\b\b\b\b\b\b\b\b\b\b\b\b\b Tot: 60ms | Step: 3ms\b\b\b\b\b\b\b\b\b\b\b\b\b\b\b\b\b\b\b\b\b\b\b\b\b\b\b\b\b\b\b\b\b\b\b\b\b\b\b\b\b\b\b\b\b\b\b\b\b\b\b\b\b\b\b\b\b\b\b\b\b\b\b\b\b\b\b\b\b\b "
     ]
    },
    {
     "data": {
      "text/plain": [
       "Epoch 11 | train loss: 0.001 | val loss: 0.075 | val acc: 98.01%\t\n"
      ]
     },
     "execution_count": 16,
     "metadata": {},
     "output_type": "execute_result"
    },
    {
     "name": "stdout",
     "output_type": "stream",
     "text": [
      " [=====================================================================================>]                               \b\b\b\b\b\b\b\b\b\b\b\b\b\b\b\b\b\b\b\b\b\b\b\b\b\b\b\b\b\b Tot: 33ms | Step: 3ms\b\b\b\b\b\b\b\b\b\b\b\b\b\b\b\b\b\b\b\b\b\b\b\b\b\b\b\b\b\b\b\b\b\b\b\b\b\b\b\b\b\b\b\b\b\b\b\b\b\b\b\b\b\b\b\b\b\b\b\b\b\b\b\b\b\b\b\b\b\b "
     ]
    },
    {
     "data": {
      "text/plain": [
       "Epoch 12 | train loss: 0.001 | val loss: 0.076 | val acc: 97.98%\t\n"
      ]
     },
     "execution_count": 16,
     "metadata": {},
     "output_type": "execute_result"
    },
    {
     "name": "stdout",
     "output_type": "stream",
     "text": [
      " [=====================================================================================>]                               \b\b\b\b\b\b\b\b\b\b\b\b\b\b\b\b\b\b\b\b\b\b\b\b\b\b\b\b\b\b Tot: 54ms | Step: 3ms\b\b\b\b\b\b\b\b\b\b\b\b\b\b\b\b\b\b\b\b\b\b\b\b\b\b\b\b\b\b\b\b\b\b\b\b\b\b\b\b\b\b\b\b\b\b\b\b\b\b\b\b\b\b\b\b\b\b\b\b\b\b\b\b\b\b\b\b\b\b "
     ]
    },
    {
     "data": {
      "text/plain": [
       "Epoch 13 | train loss: 0.001 | val loss: 0.077 | val acc: 97.98%\t\n"
      ]
     },
     "execution_count": 16,
     "metadata": {},
     "output_type": "execute_result"
    },
    {
     "name": "stdout",
     "output_type": "stream",
     "text": [
      " [==========================================================================>...........]                               \b\b\b\b\b\b\b\b\b\b\b\b\b\b\b\b\b\b\b\b\b\b\b\b\b\b\b\b\b\b ETA: 0ms | Step: 0ms\b\b\b\b\b\b\b\b\b\b\b\b\b\b\b\b\b\b\b\b\b\b\b\b\b\b\b\b\b\b\b\b\b\b\b\b\b\b\b\b\b\b\b\b\b\b\b\b\b\b\b\b\b\b\b\b\b\b\b\b\b\b\b\b\b\b\b\b\b "
     ]
    },
    {
     "data": {
      "text/plain": [
       "Epoch 14 | train loss: 0.001 | val loss: 0.079 | val acc: 98.03%\t\n"
      ]
     },
     "execution_count": 16,
     "metadata": {},
     "output_type": "execute_result"
    },
    {
     "name": "stdout",
     "output_type": "stream",
     "text": []
    },
    {
     "data": {
      "text/plain": [
       "Epoch 15 | train loss: 0.001 | val loss: 0.078 | val acc: 98.01%\t\n"
      ]
     },
     "execution_count": 16,
     "metadata": {},
     "output_type": "execute_result"
    },
    {
     "name": "stdout",
     "output_type": "stream",
     "text": []
    },
    {
     "data": {
      "text/plain": [
       "Epoch 16 | train loss: 0.001 | val loss: 0.080 | val acc: 98.02%\t\n"
      ]
     },
     "execution_count": 16,
     "metadata": {},
     "output_type": "execute_result"
    },
    {
     "name": "stdout",
     "output_type": "stream",
     "text": [
      " [=====================================================================================>]                               \b\b\b\b\b\b\b\b\b\b\b\b\b\b\b\b\b\b\b\b\b\b\b\b\b\b\b\b\b\b Tot: 29ms | Step: 3ms\b\b\b\b\b\b\b\b\b\b\b\b\b\b\b\b\b\b\b\b\b\b\b\b\b\b\b\b\b\b\b\b\b\b\b\b\b\b\b\b\b\b\b\b\b\b\b\b\b\b\b\b\b\b\b\b\b\b\b\b\b\b\b\b\b\b\b\b\b\b "
     ]
    },
    {
     "data": {
      "text/plain": [
       "Epoch 17 | train loss: 0.001 | val loss: 0.079 | val acc: 98.03%\t\n"
      ]
     },
     "execution_count": 16,
     "metadata": {},
     "output_type": "execute_result"
    },
    {
     "name": "stdout",
     "output_type": "stream",
     "text": [
      " [=====================================================================================>]                               \b\b\b\b\b\b\b\b\b\b\b\b\b\b\b\b\b\b\b\b\b\b\b\b\b\b\b\b\b\b Tot: 29ms | Step: 3ms\b\b\b\b\b\b\b\b\b\b\b\b\b\b\b\b\b\b\b\b\b\b\b\b\b\b\b\b\b\b\b\b\b\b\b\b\b\b\b\b\b\b\b\b\b\b\b\b\b\b\b\b\b\b\b\b\b\b\b\b\b\b\b\b\b\b\b\b\b\b "
     ]
    },
    {
     "data": {
      "text/plain": [
       "Epoch 18 | train loss: 0.001 | val loss: 0.079 | val acc: 98.04%\t\n"
      ]
     },
     "execution_count": 16,
     "metadata": {},
     "output_type": "execute_result"
    },
    {
     "name": "stdout",
     "output_type": "stream",
     "text": [
      " [=====================================================================================>]                               \b\b\b\b\b\b\b\b\b\b\b\b\b\b\b\b\b\b\b\b\b\b\b\b\b\b\b\b\b\b Tot: 40ms | Step: 4ms\b\b\b\b\b\b\b\b\b\b\b\b\b\b\b\b\b\b\b\b\b\b\b\b\b\b\b\b\b\b\b\b\b\b\b\b\b\b\b\b\b\b\b\b\b\b\b\b\b\b\b\b\b\b\b\b\b\b\b\b\b\b\b\b\b\b\b\b\b\b "
     ]
    },
    {
     "data": {
      "text/plain": [
       "Epoch 19 | train loss: 0.001 | val loss: 0.080 | val acc: 98.03%\t\n"
      ]
     },
     "execution_count": 16,
     "metadata": {},
     "output_type": "execute_result"
    },
    {
     "name": "stdout",
     "output_type": "stream",
     "text": [
      " [=====================================================================================>]                               \b\b\b\b\b\b\b\b\b\b\b\b\b\b\b\b\b\b\b\b\b\b\b\b\b\b\b\b\b\b Tot: 33ms | Step: 3ms\b\b\b\b\b\b\b\b\b\b\b\b\b\b\b\b\b\b\b\b\b\b\b\b\b\b\b\b\b\b\b\b\b\b\b\b\b\b\b\b\b\b\b\b\b\b\b\b\b\b\b\b\b\b\b\b\b\b\b\b\b\b\b\b\b\b\b\b\b\b "
     ]
    },
    {
     "data": {
      "text/plain": [
       "Epoch 20 | train loss: 0.001 | val loss: 0.080 | val acc: 98.03%\t\n"
      ]
     },
     "execution_count": 16,
     "metadata": {},
     "output_type": "execute_result"
    }
   ],
   "source": [
    "trainMNIST = dofile('mnist/main.lua')\n",
    "\n",
    "trainMNIST()\n",
    "-- trainMNIST({dispFreq=2, nEpochs=10, batchSize=1024, lr=0.01}) -- twiddle some hyperparameters"
   ]
  },
  {
   "cell_type": "markdown",
   "metadata": {},
   "source": []
  }
 ],
 "metadata": {
  "kernelspec": {
   "display_name": "iTorch",
   "language": "lua",
   "name": "itorch"
  },
  "language": "lua",
  "language_info": {
   "name": "lua",
   "version": "5.1"
  }
 },
 "nbformat": 4,
 "nbformat_minor": 0
}
